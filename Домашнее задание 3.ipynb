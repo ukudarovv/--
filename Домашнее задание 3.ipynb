{
 "cells": [
  {
   "cell_type": "markdown",
   "id": "65c03cf7",
   "metadata": {
    "id": "65c03cf7"
   },
   "source": [
    "# Домашнее задание 3: Создание Streamlit-проекта\n",
    "\n",
    "**Задание:**\n",
    "\n",
    "1. Найдите из открытых источников датасет titanic.csv для прогнозировния выжывания пассажиров. Постройте модель классификации RandomForest в streamlit, проведя обработку у себя в ноутбуках и загрузив уже очищенный и готовый к обучению датасет в стримлит.   \n",
    "2. Минимальный функционал — полное повторение кода урока по стримлиту (50 баллов из 100).\n",
    "3. За каждое улучшение или изменение структуры проекта начисляется +10 баллов.\n",
    "   - Улучшения могут включать: изменение способа ввода данных, способа вывода результатов, использование методов и функций, которые мы не затронули на уроке, подбор гиперпараметров и так далее.\n",
    "   - Простое добавление 5 различных новых графиков **не** считается улучшением, за все новые графики суммарно максимум +10 баллов, не важно их будет 2 или 10.\n",
    "  \n",
    "\n",
    "**Советы для получения максимального балла:**\n",
    "- Добавьте интерактивные элементы (например, ползунки, кнопки, выбор параметров).\n",
    "- Улучшите визуализацию данных.\n",
    "- Добавьте новые функции, улучшающие пользовательский опыт. Предсавьте, что разрабатывайте приложение для реальных клиентов.\n",
    "\n",
    "**Формат сдачи:**\n",
    "\n",
    "- Файл `.py` с кодом Streamlit-приложения.\n",
    "- Cсылка на развернутое приложение."
   ]
  },
  {
   "cell_type": "code",
   "execution_count": 5,
   "id": "db6d185b",
   "metadata": {},
   "outputs": [
    {
     "name": "stdout",
     "output_type": "stream",
     "text": [
      "<class 'pandas.core.frame.DataFrame'>\n",
      "RangeIndex: 891 entries, 0 to 890\n",
      "Data columns (total 12 columns):\n",
      " #   Column       Non-Null Count  Dtype  \n",
      "---  ------       --------------  -----  \n",
      " 0   PassengerId  891 non-null    int64  \n",
      " 1   Survived     891 non-null    int64  \n",
      " 2   Pclass       891 non-null    int64  \n",
      " 3   Name         891 non-null    object \n",
      " 4   Age          891 non-null    float64\n",
      " 5   SibSp        891 non-null    int64  \n",
      " 6   Parch        891 non-null    int64  \n",
      " 7   Ticket       891 non-null    object \n",
      " 8   Fare         891 non-null    float64\n",
      " 9   Sex_male     891 non-null    bool   \n",
      " 10  Embarked_Q   891 non-null    bool   \n",
      " 11  Embarked_S   891 non-null    bool   \n",
      "dtypes: bool(3), float64(2), int64(5), object(2)\n",
      "memory usage: 65.4+ KB\n"
     ]
    },
    {
     "data": {
      "text/plain": [
       "PassengerId    0\n",
       "Survived       0\n",
       "Pclass         0\n",
       "Name           0\n",
       "Age            0\n",
       "SibSp          0\n",
       "Parch          0\n",
       "Ticket         0\n",
       "Fare           0\n",
       "Sex_male       0\n",
       "Embarked_Q     0\n",
       "Embarked_S     0\n",
       "dtype: int64"
      ]
     },
     "execution_count": 5,
     "metadata": {},
     "output_type": "execute_result"
    }
   ],
   "source": [
    "import pandas as pd\n",
    "import numpy as np\n",
    "\n",
    "url = 'titanic.csv'\n",
    "df = pd.read_csv(url)\n",
    "\n",
    "\n",
    "df['Age'] = df['Age'].fillna(df['Age'].median())\n",
    "df['Embarked'] = df['Embarked'].fillna(df['Embarked'].mode()[0])\n",
    "df = df.drop(columns=['Cabin'])\n",
    "df = pd.get_dummies(df, columns=['Sex', 'Embarked'], drop_first=True)\n",
    "df.to_csv('titanic_clean.csv', index=False)\n",
    "\n",
    "df.head()\n",
    "df.info()\n",
    "df.isna().sum()\n"
   ]
  }
 ],
 "metadata": {
  "colab": {
   "provenance": []
  },
  "kernelspec": {
   "display_name": "Python 3",
   "language": "python",
   "name": "python3"
  },
  "language_info": {
   "codemirror_mode": {
    "name": "ipython",
    "version": 3
   },
   "file_extension": ".py",
   "mimetype": "text/x-python",
   "name": "python",
   "nbconvert_exporter": "python",
   "pygments_lexer": "ipython3",
   "version": "3.12.10"
  }
 },
 "nbformat": 4,
 "nbformat_minor": 5
}
